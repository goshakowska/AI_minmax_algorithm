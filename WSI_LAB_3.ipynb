{
 "cells": [
  {
   "cell_type": "markdown",
   "source": [
    "Celem ćwiczenia jest implementacja algorytmu min-max z przycinaniem α−β.\n",
    "Dla różnych ruchów o tej samej jakości, algorytm powinien zwracać losowy z\n",
    "nich.\n",
    "Następnie należy wykorzystać implementację do porównania jakości dla różnych\n",
    "głębokości przeszukiwania dla gry kółko i krzyżyk na planszy NxN. W\n",
    "raporcie powinny być umieszczone wyniki turnieju w grę kółko i krzyżyk, w\n",
    "którym biorą udział gracze sterowani algorytmem z różnymi głębokościami przeszukiwania."
   ],
   "metadata": {
    "collapsed": false
   }
  },
  {
   "cell_type": "markdown",
   "source": [
    "# Ćwiczenie 3 - Dwuosobowe gry deterministyczne\n",
    "## Implementacja algorytmu min-max z przycinaniem α−β"
   ],
   "metadata": {
    "collapsed": false
   }
  },
  {
   "cell_type": "markdown",
   "source": [
    "### Importowanie modułów\n",
    "- potrzebnych do wykonania ćwiczenia. W realizacji algorytmu korzystam z biblioteki math, random, numpy oraz copy,"
   ],
   "metadata": {
    "collapsed": false
   }
  },
  {
   "cell_type": "code",
   "execution_count": 2,
   "outputs": [],
   "source": [
    "import numpy as np\n",
    "from enum import Enum"
   ],
   "metadata": {
    "collapsed": false
   }
  },
  {
   "cell_type": "markdown",
   "source": [
    "### Importowanie modułów\n",
    "- potrzebnych do wykonania ćwiczenia. W realizacji algorytmu korzystam z biblioteki math, random, numpy oraz copy,"
   ],
   "metadata": {
    "collapsed": false
   }
  },
  {
   "cell_type": "code",
   "execution_count": null,
   "outputs": [],
   "source": [
    "class BoardStatus(Enum):\n",
    "    EMPTY = 0\n",
    "    X = 1\n",
    "    O = 2"
   ],
   "metadata": {
    "collapsed": false
   }
  },
  {
   "cell_type": "code",
   "execution_count": 15,
   "outputs": [
    {
     "name": "stdout",
     "output_type": "stream",
     "text": [
      "    1  2  3  4  5  6  7  8  9 10 11 12 13 14 15 16 17 18 19 20 21 22 23 \n",
      " 1  .  .  .  .  .  .  .  .  .  .  .  .  .  .  .  .  .  .  .  .  .  .  .\n",
      " 2  .  .  .  .  .  .  .  .  .  .  .  .  .  .  .  .  .  .  .  .  .  .  .\n",
      " 3  .  .  .  .  .  .  .  .  .  .  .  .  .  .  .  .  .  .  .  .  .  .  .\n",
      " 4  .  .  .  .  .  .  .  .  .  .  .  .  .  .  .  .  .  .  .  .  .  .  .\n",
      " 5  .  .  .  .  .  .  .  .  .  .  .  .  .  .  .  .  .  .  .  .  .  .  .\n",
      " 6  .  .  .  .  .  .  .  .  .  .  .  .  .  .  .  .  .  .  .  .  .  .  .\n",
      " 7  .  .  .  .  .  .  .  .  .  .  .  .  .  .  .  .  .  .  .  .  .  .  .\n",
      " 8  .  .  .  .  .  .  .  .  .  .  .  .  .  .  .  .  .  .  .  .  .  .  .\n",
      " 9  .  .  .  .  .  .  .  .  .  .  .  .  .  .  .  .  .  .  .  .  .  .  .\n",
      "10  .  .  .  .  .  .  .  .  .  .  .  .  .  .  .  .  .  .  .  .  .  .  .\n",
      "11  .  .  .  .  .  .  .  .  .  .  .  .  .  .  .  .  .  .  .  .  .  .  .\n",
      "12  .  .  .  .  .  .  .  .  .  .  .  .  .  .  .  .  .  .  .  .  .  .  .\n",
      "13  .  .  .  .  .  .  .  .  .  .  .  .  .  .  .  .  .  .  .  .  .  .  .\n",
      "14  .  .  .  .  .  .  .  .  .  .  .  .  .  .  .  .  .  .  .  .  .  .  .\n",
      "15  .  .  .  .  .  .  .  .  .  .  .  .  .  .  .  .  .  .  .  .  .  .  .\n",
      "16  .  .  .  .  .  .  .  .  .  .  .  .  .  .  .  .  .  .  .  .  .  .  .\n",
      "17  .  .  .  .  .  .  .  .  .  .  .  .  .  .  .  .  .  .  .  .  .  .  .\n",
      "18  .  .  .  .  .  .  .  .  .  .  .  .  .  .  .  .  .  .  .  .  .  .  .\n",
      "19  .  .  .  .  .  .  .  .  .  .  .  .  .  .  .  .  .  .  .  .  .  .  .\n",
      "20  .  .  .  .  .  .  .  .  .  .  .  .  .  .  .  .  .  .  .  .  .  .  .\n",
      "21  .  .  .  .  .  .  .  .  .  .  .  .  .  .  .  .  .  .  .  .  .  .  .\n",
      "22  .  .  .  .  .  .  .  .  .  .  .  .  .  .  .  .  .  .  .  .  .  .  .\n",
      "23  .  .  .  .  .  .  .  .  .  .  .  .  .  .  .  .  .  .  .  .  .  .  .\n"
     ]
    }
   ],
   "source": [
    "class TicTacToe:\n",
    "    def __init__(self, size_row: int):\n",
    "        self.size_row = size_row\n",
    "        self.game_board = np.zeros((size_row, size_row), dtype=int)\n",
    "        self.heuristic_matrix = self.create_heuristic_matrix()\n",
    "\n",
    "    def create_heuristic_matrix(self):\n",
    "        heuristic_matrix = np.zeros((self.size_row, self.size_row), dtype=int)\n",
    "\n",
    "        for each_row in range(self.size_row):\n",
    "            for each_value in range(self.size_row):\n",
    "                heuristic_matrix[each_row][each_value] = 2\n",
    "\n",
    "        for position in range(self.size_row):\n",
    "            heuristic_matrix[position][position] = 3\n",
    "\n",
    "        for position in range(self.size_row):\n",
    "            heuristic_matrix[position][self.size_row - 1 - position] = 3\n",
    "\n",
    "        if self.size_row % 2 == 1:\n",
    "            heuristic_matrix[self.size_row // 2][self.size_row // 2] = 4\n",
    "\n",
    "        return heuristic_matrix\n",
    "\n",
    "    def heuristic_function(self, provided_node: tuple, is_maximizing_player: bool):\n",
    "        configuration_score = 0\n",
    "        for each_row in range(self.size_row):\n",
    "            for each_value in range(self.size_row):\n",
    "                if self.game_board[each_row][each_value] == BoardStatus.O.value:\n",
    "                    configuration_score += self.heuristic_matrix[each_row][each_value]\n",
    "                if self.game_board[each_row][each_value] == BoardStatus.X.value:\n",
    "                    configuration_score -= self.heuristic_matrix[each_row][each_value]\n",
    "        if is_maximizing_player:\n",
    "            configuration_score += self.heuristic_matrix[provided_node]\n",
    "        else:\n",
    "            configuration_score -= self.heuristic_matrix[provided_node]\n",
    "        return configuration_score\n",
    "\n",
    "\n",
    "    def graphic_rep(self):\n",
    "        \"\"\"\n",
    "        Shows graphic representation of Tic Tac Toe game.\n",
    "        Draws graph (with correct \"location\" of legends)\n",
    "        for game boards with sizes between 1-99.\n",
    "        :return:\n",
    "        \"\"\"\n",
    "        board = self.game_board\n",
    "        # size = np.shape(board.game_board())[0]\n",
    "        for numbers in range(self.size_row+1):\n",
    "            if numbers == 0:\n",
    "                numbers = '  '\n",
    "                print(numbers, end=' ')\n",
    "            else:\n",
    "                if numbers < 10:\n",
    "                    print(f' {numbers}', end=' ')\n",
    "                else:\n",
    "                    print(f'{numbers}', end=' ')\n",
    "        print()\n",
    "        for numbers in range(self.size_row):\n",
    "            print(f'{(numbers + 1):2}', end=\" \")\n",
    "            for element in board[numbers, :-1]:\n",
    "                if element == 0:\n",
    "                    print(\" .\", end=\" \")\n",
    "                elif element == 1:\n",
    "                    print(\" X\", end=\" \")\n",
    "                elif element == 2:\n",
    "                    print(\" O\", end=\" \")\n",
    "            last_element = board[numbers, -1]\n",
    "            if last_element == 0:\n",
    "                print(\" .\")\n",
    "            elif last_element == 1:\n",
    "                print(\" X\")\n",
    "            elif last_element == 2:\n",
    "                print(\" O\")\n",
    "\n",
    "new_board = TicTacToe(23)\n",
    "new_board.graphic_rep()\n"
   ],
   "metadata": {
    "collapsed": false
   }
  },
  {
   "cell_type": "code",
   "execution_count": null,
   "outputs": [],
   "source": [
    "alfa = float('-inf')\n",
    "beta = float('inf')"
   ],
   "metadata": {
    "collapsed": false
   }
  },
  {
   "cell_type": "markdown",
   "source": [],
   "metadata": {
    "collapsed": false
   }
  },
  {
   "cell_type": "code",
   "execution_count": null,
   "metadata": {
    "collapsed": true
   },
   "outputs": [],
   "source": [
    "class MinMaxAlgorithm:\n",
    "    def __init__(self, game: callable):\n",
    "        self.game = game\n",
    "\n",
    "    def minimax(self, current_node, depth: int, alfa: float, beta: float, is_maximizing_player: bool):\n",
    "        if current_node.is_terminal() or depth = 0:\n",
    "            return heuristic_value(current_move)\n",
    "        children_nodes = current_node.evaluate_children()\n",
    "        if is_maximizing_player:\n",
    "            for each_child in children_nodes:\n",
    "                alfa = max(alfa, self.minimax(current_node, depth - 1, alfa, beta, not is_maximizing_player))\n",
    "                if alfa >= beta:\n",
    "                    return beta\n",
    "            return alfa\n",
    "        else:\n",
    "            for each_child in children_nodes:\n",
    "                beta = min(beta, self.minimax(depth - 1, alfa, beta, is_maximizing_player))\n",
    "                if alfa >= beta:\n",
    "                    return beta"
   ]
  },
  {
   "cell_type": "markdown",
   "source": [],
   "metadata": {
    "collapsed": false
   }
  }
 ],
 "metadata": {
  "kernelspec": {
   "display_name": "Python 3",
   "language": "python",
   "name": "python3"
  },
  "language_info": {
   "codemirror_mode": {
    "name": "ipython",
    "version": 2
   },
   "file_extension": ".py",
   "mimetype": "text/x-python",
   "name": "python",
   "nbconvert_exporter": "python",
   "pygments_lexer": "ipython2",
   "version": "2.7.6"
  }
 },
 "nbformat": 4,
 "nbformat_minor": 0
}
