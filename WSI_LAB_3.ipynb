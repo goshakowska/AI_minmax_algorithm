{
 "cells": [
  {
   "cell_type": "markdown",
   "source": [
    "Celem ćwiczenia jest implementacja algorytmu min-max z przycinaniem α−β.\n",
    "Dla różnych ruchów o tej samej jakości, algorytm powinien zwracać losowy z\n",
    "nich.\n",
    "Następnie należy wykorzystać implementację do porównania jakości dla różnych\n",
    "głębokości przeszukiwania dla gry kółko i krzyżyk na planszy NxN. W\n",
    "raporcie powinny być umieszczone wyniki turnieju w grę kółko i krzyżyk, w\n",
    "którym biorą udział gracze sterowani algorytmem z różnymi głębokościami przeszukiwania."
   ],
   "metadata": {
    "collapsed": false
   }
  },
  {
   "cell_type": "markdown",
   "source": [
    "# Ćwiczenie 3 - Dwuosobowe gry deterministyczne\n",
    "## Implementacja algorytmu min-max z przycinaniem α−β"
   ],
   "metadata": {
    "collapsed": false
   }
  },
  {
   "cell_type": "markdown",
   "source": [
    "### Importowanie modułów\n",
    "- potrzebnych do wykonania ćwiczenia. W realizacji algorytmu korzystam z biblioteki math, random, numpy oraz copy,"
   ],
   "metadata": {
    "collapsed": false
   }
  },
  {
   "cell_type": "code",
   "execution_count": 2,
   "outputs": [],
   "source": [
    "import numpy as np\n",
    "from enum import Enum\n",
    "from typing import List\n",
    "from copy import deepcopy"
   ],
   "metadata": {
    "collapsed": false
   }
  },
  {
   "cell_type": "markdown",
   "source": [
    "### Importowanie modułów\n",
    "- potrzebnych do wykonania ćwiczenia. W realizacji algorytmu korzystam z biblioteki math, random, numpy oraz copy,"
   ],
   "metadata": {
    "collapsed": false
   }
  },
  {
   "cell_type": "markdown",
   "source": [
    "### Zdefiniowanie stanów planszy:\n",
    "- za pomocą użycia Enum"
   ],
   "metadata": {
    "collapsed": false
   }
  },
  {
   "cell_type": "code",
   "execution_count": 3,
   "outputs": [],
   "source": [
    "class BoardStatus(Enum):\n",
    "    EMPTY = 0\n",
    "    X = 1\n",
    "    O = 2"
   ],
   "metadata": {
    "collapsed": false
   }
  },
  {
   "cell_type": "markdown",
   "source": [
    "### Klasa TicTacToe\n",
    "- badanej przez nasz algorytm gry"
   ],
   "metadata": {
    "collapsed": false
   }
  },
  {
   "cell_type": "code",
   "execution_count": 1,
   "outputs": [],
   "source": [
    "class TicTacToe:  # zmienić nazwę na gameboard\n",
    "    def __init__(self, size_row: int):\n",
    "        self.size_row = size_row\n",
    "        self.game_board = np.zeros((size_row, size_row), dtype=int)\n",
    "        self.heuristic_matrix = self.create_heuristic_matrix()\n",
    "        self.heuristic_score = self.heuristic_function()\n",
    "        self.children = 0\n",
    "\n",
    "    def set_heuristic_score(self, new_heuristic_score: float):\n",
    "        self.heuristic_score = new_heuristic_score\n",
    "\n",
    "    def set_children(self, new_children: List['TicTacToe']):\n",
    "        self.children = sorted(new_children, key=self.heuristic_score(), reverse=True)\n",
    "\n",
    "    def create_heuristic_matrix(self):\n",
    "        heuristic_matrix = np.zeros((self.size_row, self.size_row), dtype=int)\n",
    "\n",
    "        for each_row in range(self.size_row):\n",
    "            for each_value in range(self.size_row):\n",
    "                heuristic_matrix[each_row][each_value] = 2\n",
    "\n",
    "        for position in range(self.size_row):\n",
    "            heuristic_matrix[position][position] = 3\n",
    "\n",
    "        for position in range(self.size_row):\n",
    "            heuristic_matrix[position][self.size_row - 1 - position] = 3\n",
    "\n",
    "        if self.size_row % 2 == 1:\n",
    "            heuristic_matrix[self.size_row // 2][self.size_row // 2] = 4\n",
    "\n",
    "        return heuristic_matrix\n",
    "\n",
    "    def heuristic_function(self):\n",
    "        configuration_score = 0\n",
    "        for each_row in range(self.size_row):\n",
    "            for each_value in range(self.size_row):\n",
    "                if self.game_board[each_row][each_value] == BoardStatus.O.value:\n",
    "                    configuration_score += self.heuristic_matrix[each_row][each_value]\n",
    "                if self.game_board[each_row][each_value] == BoardStatus.X.value:\n",
    "                    configuration_score -= self.heuristic_matrix[each_row][each_value]\n",
    "        return configuration_score\n",
    "\n",
    "\n",
    "    def evaluate_children(self, is_maximizing_player: bool) -> List:\n",
    "        children = []\n",
    "        for each_row in range(self.size_row):\n",
    "            for each_possible_children in range(self.size_row):\n",
    "                if self.is_move_possible((each_row, each_possible_children)):\n",
    "                    child = deepcopy(self)\n",
    "                    child.make_move((each_row, each_possible_children), is_maximizing_player)\n",
    "                    child.heuristic_function()\n",
    "                    children.append(child)\n",
    "        return children\n",
    "\n",
    "    def evaluate_win(self, who_won):\n",
    "        if who_won == BoardStatus.O.value:\n",
    "            self.set_heuristic_score(float('inf'))\n",
    "        else:\n",
    "            self.set_heuristic_score(float('-inf'))\n",
    "\n",
    "    def is_terminal(self):\n",
    "        possible_wins = [self.horizontal_win(), self.vertical_win(), self.first_diagonal_win(), self.second_diagonal_win()]\n",
    "        for each_possible_win in possible_wins:\n",
    "            if each_possible_win is not None and each_possible_win != 0:\n",
    "                self.evaluate_win(each_possible_win)  # nie jestem pewna jeszcze czy ma się to tutaj znajdować...\n",
    "                return True, each_possible_win\n",
    "        # sprawdzanie, czy ktoś wygrywa\n",
    "        for each_row in range(self.size_row):\n",
    "            for each_column in range(self.size_row):\n",
    "                if self.game_board[each_row][each_column] == 0:\n",
    "                    return False, None\n",
    "            return True, 0\n",
    "\n",
    "    def is_move_possible(self, provided_node):\n",
    "        if provided_node[0] in range(self.size_row) and provided_node[1] in range(self.size_row):  # nie wiem, czy ten warunek jest potrzebny\n",
    "            if self.game_board[provided_node] == 0:\n",
    "                return True\n",
    "        return False\n",
    "\n",
    "\n",
    "    def horizontal_win(self):  # jak będzie czas to zmodyfikować, żeby zera nie dodawał\n",
    "        row_winner = None\n",
    "        pair_counter = 0\n",
    "\n",
    "        for each_row in self.game_board:\n",
    "            predecessor = each_row[0]\n",
    "            for each_position in range(1, len(each_row)):\n",
    "                if predecessor != each_row[each_position]:\n",
    "                    break\n",
    "                pair_counter += 1\n",
    "                predecessor = each_row[each_position]\n",
    "\n",
    "            if pair_counter == len(each_row) - 1:\n",
    "                row_winner = predecessor\n",
    "                return row_winner\n",
    "            pair_counter = 0\n",
    "        return row_winner\n",
    "\n",
    "    def vertical_win(self):\n",
    "        column_winner = None\n",
    "        pair_counter = 0\n",
    "\n",
    "        for each_column in range(len(self.game_board[0])):\n",
    "            predecessor = self.game_board[0][each_column]\n",
    "            for each_position in range(1, len(self.game_board)):\n",
    "                if predecessor != self.game_board[each_position][each_column]:\n",
    "                    break\n",
    "                pair_counter += 1\n",
    "                predecessor = self.game_board[each_position][each_column]\n",
    "\n",
    "            if pair_counter == len(self.game_board) - 1:\n",
    "                column_winner = predecessor\n",
    "                return column_winner\n",
    "            pair_counter = 0\n",
    "        return column_winner\n",
    "\n",
    "    def first_diagonal_win(self):\n",
    "        diagonal_winner = None\n",
    "        pair_counter = 0\n",
    "        predecessor = self.game_board[0][0]\n",
    "\n",
    "        for position in range(1, self.size_row):\n",
    "            if predecessor != self.game_board[position][position]:\n",
    "                return diagonal_winner\n",
    "            pair_counter += 1\n",
    "            predecessor = self.game_board[position][position]\n",
    "\n",
    "        if pair_counter == len(self.game_board) - 1:\n",
    "            diagonal_winner = predecessor\n",
    "        return diagonal_winner\n",
    "\n",
    "    def second_diagonal_win(self):\n",
    "        diagonal_winner = None\n",
    "        pair_counter = 0\n",
    "        predecessor = self.game_board[0][self.size_row - 1]\n",
    "\n",
    "        for position in range(1, self.size_row):\n",
    "            if predecessor != self.game_board[position][self.size_row - 1 - position]:\n",
    "                return diagonal_winner\n",
    "            pair_counter += 1\n",
    "            predecessor = self.game_board[position][self.size_row - 1 - position]\n",
    "\n",
    "        if pair_counter == len(self.game_board) - 1:\n",
    "            diagonal_winner = predecessor\n",
    "        return diagonal_winner\n",
    "\n",
    "    def graphic_rep(self):\n",
    "        \"\"\"\n",
    "        Shows graphic representation of Tic Tac Toe game.\n",
    "        Draws graph (with correct \"location\" of legends)\n",
    "        for game boards with sizes between 1-99.\n",
    "        :return:\n",
    "        \"\"\"\n",
    "        board = self.game_board\n",
    "        # size = np.shape(board.game_board())[0]\n",
    "        for numbers in range(self.size_row+1):\n",
    "            if numbers == 0:\n",
    "                numbers = '  '\n",
    "                print(numbers, end=' ')\n",
    "            else:\n",
    "                if numbers < 10:\n",
    "                    print(f' {numbers}', end=' ')\n",
    "                else:\n",
    "                    print(f'{numbers}', end=' ')\n",
    "        print()\n",
    "        for numbers in range(self.size_row):\n",
    "            print(f'{(numbers + 1):2}', end=\" \")\n",
    "            for element in board[numbers, :-1]:\n",
    "                if element == 0:\n",
    "                    print(\" .\", end=\" \")\n",
    "                elif element == 1:\n",
    "                    print(\" X\", end=\" \")\n",
    "                elif element == 2:\n",
    "                    print(\" O\", end=\" \")\n",
    "            last_element = board[numbers, -1]\n",
    "            if last_element == 0:\n",
    "                print(\" .\")\n",
    "            elif last_element == 1:\n",
    "                print(\" X\")\n",
    "            elif last_element == 2:\n",
    "                print(\" O\")\n",
    "\n"
   ],
   "metadata": {
    "collapsed": false
   }
  },
  {
   "cell_type": "markdown",
   "source": [
    "### Algorytm Minimax"
   ],
   "metadata": {
    "collapsed": false
   }
  },
  {
   "cell_type": "markdown",
   "source": [
    "#### Zmienne globalne\n",
    "- α oraz β"
   ],
   "metadata": {
    "collapsed": false
   }
  },
  {
   "cell_type": "code",
   "execution_count": null,
   "outputs": [],
   "source": [
    "alfa = float('-inf')\n",
    "beta = float('inf')"
   ],
   "metadata": {
    "collapsed": false
   }
  },
  {
   "cell_type": "markdown",
   "source": [
    "####"
   ],
   "metadata": {
    "collapsed": false
   }
  },
  {
   "cell_type": "code",
   "execution_count": null,
   "metadata": {
    "collapsed": true
   },
   "outputs": [],
   "source": [
    "class MinMaxAlgorithm:\n",
    "    def __init__(self, game: callable):\n",
    "        self.game = game\n",
    "\n",
    "    def minimax(self, current_node: TicTacToe, depth: int, alfa: float, beta: float, is_maximizing_player: bool):  # current node musi być tablicą a nie nodem\n",
    "        if current_node.is_terminal() or depth == 0:\n",
    "            return current_node.heuristic_function()  # co powinno zwracać??\n",
    "\n",
    "        if is_maximizing_player:\n",
    "            children_nodes = current_node.evaluate_children(is_maximizing_player)\n",
    "            for each_child in children_nodes:\n",
    "                new_alfa = max(alfa, self.minimax(each_child, depth - 1, alfa, beta, not is_maximizing_player))\n",
    "                if new_alfa >= beta:\n",
    "                    return beta\n",
    "            return alfa\n",
    "        else:\n",
    "            children_nodes = current_node.evaluate_children(not is_maximizing_player)\n",
    "            for each_child in children_nodes:\n",
    "                new_beta = min(beta, self.minimax(each_child, depth - 1, alfa, beta, is_maximizing_player))\n",
    "                if alfa >= new_beta:\n",
    "                    return new_beta\n",
    "            return beta"
   ]
  },
  {
   "cell_type": "code",
   "execution_count": null,
   "outputs": [],
   "source": [
    "class Game:\n",
    "    def __init__(self, tictactoe_board: TicTacToe):\n",
    "        self.board = tictactoe_board\n",
    "\n",
    "    def initialize_game(self):\n",
    "        pass\n",
    "\n",
    "    def round_game(self):\n",
    "        pass\n",
    "\n",
    "    def show_results_after_round(self):\n",
    "        pass\n"
   ],
   "metadata": {
    "collapsed": false
   }
  },
  {
   "cell_type": "markdown",
   "source": [],
   "metadata": {
    "collapsed": false
   }
  }
 ],
 "metadata": {
  "kernelspec": {
   "display_name": "Python 3",
   "language": "python",
   "name": "python3"
  },
  "language_info": {
   "codemirror_mode": {
    "name": "ipython",
    "version": 2
   },
   "file_extension": ".py",
   "mimetype": "text/x-python",
   "name": "python",
   "nbconvert_exporter": "python",
   "pygments_lexer": "ipython2",
   "version": "2.7.6"
  }
 },
 "nbformat": 4,
 "nbformat_minor": 0
}
